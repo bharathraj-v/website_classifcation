{
 "cells": [
  {
   "cell_type": "code",
   "execution_count": 36,
   "metadata": {},
   "outputs": [
    {
     "name": "stderr",
     "output_type": "stream",
     "text": [
      "/tmp/ipykernel_321677/4175497328.py:1: DeprecationWarning: executable_path has been deprecated, please pass in a Service object\n",
      "  driver = webdriver.Chrome(\"/usr/bin/chromedriver\")\n"
     ]
    }
   ],
   "source": []
  },
  {
   "cell_type": "code",
   "execution_count": 14,
   "metadata": {},
   "outputs": [],
   "source": [
    "import pickle"
   ]
  },
  {
   "cell_type": "code",
   "execution_count": 15,
   "metadata": {},
   "outputs": [],
   "source": [
    "text_classifier = pickle.load(open('model.pkl', 'rb'))\n",
    "label_encoder_mapping = pickle.load(open('label_encoder_mapping.pkl', 'rb'))"
   ]
  },
  {
   "cell_type": "code",
   "execution_count": 19,
   "metadata": {},
   "outputs": [],
   "source": [
    "def predict(text):\n",
    "    return label_encoder_mapping[text_classifier.predict([text])[0]]"
   ]
  },
  {
   "cell_type": "code",
   "execution_count": null,
   "metadata": {},
   "outputs": [],
   "source": [
    "from selenium import webdriver\n",
    "from selenium.webdriver.common.by import By"
   ]
  },
  {
   "cell_type": "code",
   "execution_count": null,
   "metadata": {},
   "outputs": [],
   "source": [
    "sites = [\n",
    "\"https://nsktu.ac.in/\",\n",
    "\"https://www.etsy.com\",\n",
    "\"https://magicpin.in\",\n",
    "\"https://www.sportskeeda.com\",\n",
    "\"https://www.cricbuzz.com\",\n",
    "\"https://www.iis.net/\",\n",
    "\"https://www.edureka.co/\",\n",
    "\"https://www.helpmecovid.com\",\n",
    "\"https://www.healthifyme.com/\"\n",
    "]"
   ]
  },
  {
   "cell_type": "code",
   "execution_count": null,
   "metadata": {},
   "outputs": [],
   "source": [
    "driver = webdriver.Chrome(\"/usr/bin/chromedriver\")\n",
    "driver.get('https://www.etsy.com/')\n",
    "el = driver.find_element(By.TAG_NAME, 'body')\n",
    "site_content = el.text\n",
    "driver.close()"
   ]
  },
  {
   "cell_type": "code",
   "execution_count": 37,
   "metadata": {},
   "outputs": [
    {
     "data": {
      "text/plain": [
       "'E-Commerce'"
      ]
     },
     "execution_count": 37,
     "metadata": {},
     "output_type": "execute_result"
    }
   ],
   "source": [
    "predict(site_content)"
   ]
  }
 ],
 "metadata": {
  "kernelspec": {
   "display_name": "Python 3.9.12 ('base')",
   "language": "python",
   "name": "python3"
  },
  "language_info": {
   "codemirror_mode": {
    "name": "ipython",
    "version": 3
   },
   "file_extension": ".py",
   "mimetype": "text/x-python",
   "name": "python",
   "nbconvert_exporter": "python",
   "pygments_lexer": "ipython3",
   "version": "3.9.12"
  },
  "orig_nbformat": 4,
  "vscode": {
   "interpreter": {
    "hash": "2e3c7c3ef8a7f346e5d74a5d237a5b0a0c110885718606e55542db56c5c1a0b6"
   }
  }
 },
 "nbformat": 4,
 "nbformat_minor": 2
}
