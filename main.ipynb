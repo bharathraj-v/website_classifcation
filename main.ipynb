{
 "cells": [
  {
   "cell_type": "markdown",
   "metadata": {},
   "source": [
    "#### Scraping the given sites and classifying them using imported SVM Pipeline"
   ]
  },
  {
   "cell_type": "code",
   "execution_count": 119,
   "metadata": {},
   "outputs": [],
   "source": [
    "import pickle"
   ]
  },
  {
   "cell_type": "code",
   "execution_count": 120,
   "metadata": {},
   "outputs": [],
   "source": [
    "text_classifier = pickle.load(open('model.pkl', 'rb'))\n",
    "label_encoder_mapping = pickle.load(open('label_encoder_mapping.pkl', 'rb'))"
   ]
  },
  {
   "cell_type": "code",
   "execution_count": 121,
   "metadata": {},
   "outputs": [
    {
     "data": {
      "text/plain": [
       "{0: 'Adult',\n",
       " 1: 'Business/Corporate',\n",
       " 2: 'Computers and Technology',\n",
       " 3: 'E-Commerce',\n",
       " 4: 'Education',\n",
       " 5: 'Food',\n",
       " 6: 'Forums',\n",
       " 7: 'Games',\n",
       " 8: 'Health and Fitness',\n",
       " 9: 'Law and Government',\n",
       " 10: 'News',\n",
       " 11: 'Photography',\n",
       " 12: 'Social Networking and Messaging',\n",
       " 13: 'Sports',\n",
       " 14: 'Streaming Services',\n",
       " 15: 'Travel'}"
      ]
     },
     "execution_count": 121,
     "metadata": {},
     "output_type": "execute_result"
    }
   ],
   "source": [
    "label_encoder_mapping"
   ]
  },
  {
   "cell_type": "code",
   "execution_count": 122,
   "metadata": {},
   "outputs": [],
   "source": [
    "def predict(text):\n",
    "    return label_encoder_mapping[text_classifier.predict([text])[0]]"
   ]
  },
  {
   "cell_type": "code",
   "execution_count": 123,
   "metadata": {},
   "outputs": [],
   "source": [
    "from selenium import webdriver\n",
    "from selenium.webdriver.common.by import By"
   ]
  },
  {
   "cell_type": "code",
   "execution_count": 124,
   "metadata": {},
   "outputs": [],
   "source": [
    "sites = [\n",
    "\"https://nsktu.ac.in/\",\n",
    "\"https://www.etsy.com\",\n",
    "\"https://magicpin.in\",\n",
    "\"https://www.sportskeeda.com\",\n",
    "\"https://www.cricbuzz.com\",\n",
    "\"https://www.iis.net/\",\n",
    "\"https://www.edureka.co/\",\n",
    "\"https://www.helpmecovid.com\",\n",
    "\"https://www.healthifyme.com/\"\n",
    "]"
   ]
  },
  {
   "cell_type": "code",
   "execution_count": 125,
   "metadata": {},
   "outputs": [
    {
     "name": "stderr",
     "output_type": "stream",
     "text": [
      "/tmp/ipykernel_321677/3644859717.py:3: DeprecationWarning: executable_path has been deprecated, please pass in a Service object\n",
      "  driver = webdriver.Chrome(\"/usr/bin/chromedriver\")\n"
     ]
    }
   ],
   "source": [
    "sites_content = []\n",
    "for site in sites:\n",
    "    driver = webdriver.Chrome(\"/usr/bin/chromedriver\")\n",
    "    driver.get(site)\n",
    "    el = driver.find_element(By.TAG_NAME, 'body')\n",
    "    sites_content.append(el.text)\n",
    "    driver.close()"
   ]
  },
  {
   "cell_type": "code",
   "execution_count": 126,
   "metadata": {},
   "outputs": [
    {
     "name": "stdout",
     "output_type": "stream",
     "text": [
      "https://nsktu.ac.in/  :  Education\n",
      "https://www.etsy.com  :  E-Commerce\n",
      "https://magicpin.in  :  E-Commerce\n",
      "https://www.sportskeeda.com  :  Sports\n",
      "https://www.cricbuzz.com  :  Sports\n",
      "https://www.iis.net/  :  Computers and Technology\n",
      "https://www.edureka.co/  :  Computers and Technology\n",
      "https://www.helpmecovid.com  :  News\n",
      "https://www.healthifyme.com/  :  Health and Fitness\n"
     ]
    }
   ],
   "source": [
    "predictions = [predict(i) for i in sites_content]\n",
    "for i in range(len(predictions)):\n",
    "    print(sites[i],\" : \", predictions[i])"
   ]
  },
  {
   "cell_type": "code",
   "execution_count": 127,
   "metadata": {},
   "outputs": [],
   "source": [
    "import matplotlib.pyplot as plt\n",
    "import seaborn as sns"
   ]
  },
  {
   "cell_type": "code",
   "execution_count": 128,
   "metadata": {},
   "outputs": [
    {
     "data": {
      "text/plain": [
       "Text(0.5, 1.0, 'CountPlot')"
      ]
     },
     "execution_count": 128,
     "metadata": {},
     "output_type": "execute_result"
    },
    {
     "data": {
      "image/png": "[encoded data removed]",
      "text/plain": [
       "<Figure size 720x720 with 1 Axes>"
      ]
     },
     "metadata": {
      "needs_background": "light"
     },
     "output_type": "display_data"
    }
   ],
   "source": [
    "plt.figure(figsize = (10, 10))\n",
    "sns.countplot(x=predictions)\n",
    "plt.xlabel('Category')\n",
    "plt.title('CountPlot')\n"
   ]
  },
  {
   "cell_type": "markdown",
   "metadata": {},
   "source": [
    "#### Editing the Categories as per the given assignment"
   ]
  },
  {
   "cell_type": "code",
   "execution_count": 129,
   "metadata": {},
   "outputs": [
    {
     "data": {
      "text/plain": [
       "['Adult',\n",
       " 'Business/Corporate',\n",
       " 'Computers and Technology',\n",
       " 'E-Commerce',\n",
       " 'Education',\n",
       " 'Food',\n",
       " 'Forums',\n",
       " 'Games',\n",
       " 'Health and Fitness',\n",
       " 'Law and Government',\n",
       " 'News',\n",
       " 'Photography',\n",
       " 'Social Networking and Messaging',\n",
       " 'Sports',\n",
       " 'Streaming Services',\n",
       " 'Travel']"
      ]
     },
     "execution_count": 129,
     "metadata": {},
     "output_type": "execute_result"
    }
   ],
   "source": [
    "categories = label_encoder_mapping.values()\n",
    "categories = list(categories)\n",
    "categories"
   ]
  },
  {
   "cell_type": "markdown",
   "metadata": {},
   "source": [
    "Converting the dataset categories"
   ]
  },
  {
   "cell_type": "code",
   "execution_count": 130,
   "metadata": {},
   "outputs": [],
   "source": [
    "new_categories = {\n",
    "    0:'Health',\n",
    "    1:'Tech',\n",
    "    2:\"Tech\",\n",
    "    3:\"Tech\",\n",
    "    4:\"Education\",\n",
    "    5:\"Health\",\n",
    "    6:\"Tech\",\n",
    "    7:\"Tech\",\n",
    "    8:\"Health\",\n",
    "    9:\"Health\",\n",
    "    10:\"Health\",\n",
    "    11:\"Tech\",\n",
    "    12:\"Tech\",\n",
    "    13:\"Sport\",\n",
    "    14:\"Tech\",\n",
    "    15:\"Health\"\n",
    "}"
   ]
  },
  {
   "cell_type": "code",
   "execution_count": 131,
   "metadata": {},
   "outputs": [],
   "source": [
    "def classify(text):\n",
    "    return new_categories[text_classifier.predict([text])[0]]"
   ]
  },
  {
   "cell_type": "code",
   "execution_count": 132,
   "metadata": {},
   "outputs": [
    {
     "name": "stdout",
     "output_type": "stream",
     "text": [
      "https://nsktu.ac.in/  :  Education\n",
      "https://www.etsy.com  :  Tech\n",
      "https://magicpin.in  :  Tech\n",
      "https://www.sportskeeda.com  :  Sport\n",
      "https://www.cricbuzz.com  :  Sport\n",
      "https://www.iis.net/  :  Tech\n",
      "https://www.edureka.co/  :  Tech\n",
      "https://www.helpmecovid.com  :  Health\n",
      "https://www.healthifyme.com/  :  Health\n"
     ]
    }
   ],
   "source": [
    "classifications = [classify(i) for i in sites_content]\n",
    "for i in range(len(classifications)):\n",
    "    print(sites[i],\" : \", classifications[i])"
   ]
  },
  {
   "cell_type": "code",
   "execution_count": 133,
   "metadata": {},
   "outputs": [
    {
     "data": {
      "text/plain": [
       "Text(0.5, 1.0, 'CountPlot')"
      ]
     },
     "execution_count": 133,
     "metadata": {},
     "output_type": "execute_result"
    },
    {
     "data": {
      "image/png": "[encoded data removed]",
      "text/plain": [
       "<Figure size 720x720 with 1 Axes>"
      ]
     },
     "metadata": {
      "needs_background": "light"
     },
     "output_type": "display_data"
    }
   ],
   "source": [
    "plt.figure(figsize = (10, 10))\n",
    "sns.countplot(x=classifications)\n",
    "plt.xlabel('Category')\n",
    "plt.title('CountPlot')\n"
   ]
  }
 ],
 "metadata": {
  "kernelspec": {
   "display_name": "Python 3.9.12 ('base')",
   "language": "python",
   "name": "python3"
  },
  "language_info": {
   "codemirror_mode": {
    "name": "ipython",
    "version": 3
   },
   "file_extension": ".py",
   "mimetype": "text/x-python",
   "name": "python",
   "nbconvert_exporter": "python",
   "pygments_lexer": "ipython3",
   "version": "3.9.12"
  },
  "orig_nbformat": 4,
  "vscode": {
   "interpreter": {
    "hash": "2e3c7c3ef8a7f346e5d74a5d237a5b0a0c110885718606e55542db56c5c1a0b6"
   }
  }
 },
 "nbformat": 4,
 "nbformat_minor": 2
}
